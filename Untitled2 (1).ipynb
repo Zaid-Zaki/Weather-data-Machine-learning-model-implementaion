{
 "cells": [
  {
   "cell_type": "code",
   "execution_count": 328,
   "id": "e080ffba",
   "metadata": {},
   "outputs": [],
   "source": [
    "import datetime\n",
    "import pandas as pd"
   ]
  },
  {
   "cell_type": "markdown",
   "id": "f04b343e",
   "metadata": {},
   "source": [
    "# Dataframe load"
   ]
  },
  {
   "cell_type": "code",
   "execution_count": 218,
   "id": "9339c92a",
   "metadata": {},
   "outputs": [],
   "source": [
    "dataframe_2022=pd.read_excel(\"data_2022.xlsx\",skiprows=1)\n",
    "dataframe_2021=pd.read_excel(\"data_2021.xlsx\")\n",
    "dataframe_2020=pd.read_excel(\"data_2020.xlsx\")"
   ]
  },
  {
   "cell_type": "markdown",
   "id": "f90e8794",
   "metadata": {},
   "source": [
    "# Preprocessing for 2021"
   ]
  },
  {
   "cell_type": "code",
   "execution_count": 219,
   "id": "c51b8973",
   "metadata": {},
   "outputs": [],
   "source": [
    "dataframe_2022.columns=dataframe_2021.columns\n",
    "dataframe_2020.columns=dataframe_2021.columns"
   ]
  },
  {
   "cell_type": "code",
   "execution_count": 220,
   "id": "ebdd4900",
   "metadata": {},
   "outputs": [],
   "source": [
    "dataframe_2021.drop(index=0, inplace=True)"
   ]
  },
  {
   "cell_type": "code",
   "execution_count": 221,
   "id": "e8018b45",
   "metadata": {},
   "outputs": [],
   "source": [
    "temperature = dataframe_2021[\"Temperature\"].tolist()\n",
    "\n",
    "cleaned_temperature_list = []\n",
    "for temp in temperature:\n",
    "    if isinstance(temp, str):\n",
    "        cleaned_temperature_list.append(temp.replace('\\xa0°F', ''))\n",
    "    elif isinstance(temp, float):\n",
    "        cleaned_temperature_list.append(str(temp))\n",
    "        \n",
    "\n",
    "dataframe_2021[\"Temperature\"]=cleaned_temperature_list"
   ]
  },
  {
   "cell_type": "code",
   "execution_count": 222,
   "id": "f8c321df",
   "metadata": {},
   "outputs": [],
   "source": [
    "temperature = dataframe_2021[\"Dew Point\"].tolist()\n",
    "Dew_Point_list = []\n",
    "for temp in temperature:\n",
    "    if isinstance(temp, str):\n",
    "        Dew_Point_list.append(temp.replace('\\xa0°F', ''))\n",
    "    elif isinstance(temp, float):\n",
    "        Dew_Point_list.append(str(temp))\n",
    "        \n",
    "\n",
    "dataframe_2021[\"Dew Point\"]=Dew_Point_list"
   ]
  },
  {
   "cell_type": "code",
   "execution_count": 223,
   "id": "14cc451e",
   "metadata": {},
   "outputs": [],
   "source": [
    "humidity_list = dataframe_2021[\"Humidity\"].tolist()\n",
    "cleaned_humidity_list = []\n",
    "for humidity in humidity_list:\n",
    "    if isinstance(humidity, float):\n",
    "        cleaned_humidity_list.append(humidity)  # Keep float values as they are\n",
    "    else:\n",
    "        cleaned_humidity_list.append(humidity.replace('\\xa0%', ''))\n",
    "\n",
    "dataframe_2021[\"Humidity\"] = cleaned_humidity_list"
   ]
  },
  {
   "cell_type": "code",
   "execution_count": 224,
   "id": "d32fff54",
   "metadata": {},
   "outputs": [],
   "source": [
    "windspeed = dataframe_2021[\"Wind Speed\"].tolist()\n",
    "windsspeed_list = [str(speed).replace('mph', '') for speed in windspeed]\n",
    "dataframe_2021[\"Wind Speed\"] = windsspeed_list"
   ]
  },
  {
   "cell_type": "code",
   "execution_count": 225,
   "id": "08fad3c5",
   "metadata": {},
   "outputs": [],
   "source": [
    "Wind_Gust = dataframe_2021[\"Wind Gust\"].tolist()\n",
    "Wind_Gust_list= [str(s).replace('mph', '') for s in Wind_Gust]\n",
    "dataframe_2021[\"Wind Gust\"] = Wind_Gust_list"
   ]
  },
  {
   "cell_type": "code",
   "execution_count": 226,
   "id": "807bca16",
   "metadata": {},
   "outputs": [],
   "source": [
    "Pressure = dataframe_2021[\"Pressure\"].tolist()\n",
    "Pressure_list= [str(s).replace('mph', '') for s in Wind_Gust]\n",
    "dataframe_2021[\"Pressure\"] = Pressure_list"
   ]
  },
  {
   "cell_type": "code",
   "execution_count": 227,
   "id": "f9b32562",
   "metadata": {},
   "outputs": [],
   "source": [
    "Precip = dataframe_2021[\"Precip.\"].tolist()\n",
    "Precip_list = [str(s).replace('in', '') for s in Precip]\n",
    "dataframe_2021[\"Precip.\"] = Precip_list"
   ]
  },
  {
   "cell_type": "code",
   "execution_count": 228,
   "id": "8b49c567",
   "metadata": {},
   "outputs": [],
   "source": [
    "weather_mapping = {\n",
    "    'Fog': 1,\n",
    "    'Smoke': 2,\n",
    "}\n",
    "\n",
    "condition = dataframe_2021[\"Condition\"].tolist()\n",
    "condition_list = [weather_mapping.get(c, 0) for c in condition]\n",
    "dataframe_2021[\"Condition\"] = condition_list"
   ]
  },
  {
   "cell_type": "code",
   "execution_count": 229,
   "id": "fc0ff27f",
   "metadata": {},
   "outputs": [
    {
     "data": {
      "text/html": [
       "<div>\n",
       "<style scoped>\n",
       "    .dataframe tbody tr th:only-of-type {\n",
       "        vertical-align: middle;\n",
       "    }\n",
       "\n",
       "    .dataframe tbody tr th {\n",
       "        vertical-align: top;\n",
       "    }\n",
       "\n",
       "    .dataframe thead th {\n",
       "        text-align: right;\n",
       "    }\n",
       "</style>\n",
       "<table border=\"1\" class=\"dataframe\">\n",
       "  <thead>\n",
       "    <tr style=\"text-align: right;\">\n",
       "      <th></th>\n",
       "      <th>DATE</th>\n",
       "      <th>Time</th>\n",
       "      <th>Temperature</th>\n",
       "      <th>Dew Point</th>\n",
       "      <th>Humidity</th>\n",
       "      <th>Wind</th>\n",
       "      <th>Wind Speed</th>\n",
       "      <th>Wind Gust</th>\n",
       "      <th>Pressure</th>\n",
       "      <th>Precip.</th>\n",
       "      <th>Condition</th>\n",
       "    </tr>\n",
       "  </thead>\n",
       "  <tbody>\n",
       "    <tr>\n",
       "      <th>1</th>\n",
       "      <td>2021-01-01 00:00:00</td>\n",
       "      <td>00:25:00</td>\n",
       "      <td>46</td>\n",
       "      <td>43</td>\n",
       "      <td>87</td>\n",
       "      <td>CALM</td>\n",
       "      <td>0</td>\n",
       "      <td>0</td>\n",
       "      <td>0</td>\n",
       "      <td>0.0</td>\n",
       "      <td>1</td>\n",
       "    </tr>\n",
       "    <tr>\n",
       "      <th>2</th>\n",
       "      <td>2021-01-01 00:00:00</td>\n",
       "      <td>00:55:00</td>\n",
       "      <td>45</td>\n",
       "      <td>43</td>\n",
       "      <td>93</td>\n",
       "      <td>CALM</td>\n",
       "      <td>0</td>\n",
       "      <td>0</td>\n",
       "      <td>0</td>\n",
       "      <td>0.0</td>\n",
       "      <td>1</td>\n",
       "    </tr>\n",
       "    <tr>\n",
       "      <th>3</th>\n",
       "      <td>2021-01-01 00:00:00</td>\n",
       "      <td>01:55:00</td>\n",
       "      <td>45</td>\n",
       "      <td>39</td>\n",
       "      <td>81</td>\n",
       "      <td>CALM</td>\n",
       "      <td>0</td>\n",
       "      <td>0</td>\n",
       "      <td>0</td>\n",
       "      <td>0.0</td>\n",
       "      <td>1</td>\n",
       "    </tr>\n",
       "    <tr>\n",
       "      <th>4</th>\n",
       "      <td>2021-01-01 00:00:00</td>\n",
       "      <td>03:25:00</td>\n",
       "      <td>41</td>\n",
       "      <td>37</td>\n",
       "      <td>87</td>\n",
       "      <td>CALM</td>\n",
       "      <td>0</td>\n",
       "      <td>0</td>\n",
       "      <td>0</td>\n",
       "      <td>0.0</td>\n",
       "      <td>1</td>\n",
       "    </tr>\n",
       "    <tr>\n",
       "      <th>5</th>\n",
       "      <td>2021-01-01 00:00:00</td>\n",
       "      <td>03:55:00</td>\n",
       "      <td>41</td>\n",
       "      <td>36</td>\n",
       "      <td>81</td>\n",
       "      <td>CALM</td>\n",
       "      <td>0</td>\n",
       "      <td>0</td>\n",
       "      <td>0</td>\n",
       "      <td>0.0</td>\n",
       "      <td>1</td>\n",
       "    </tr>\n",
       "    <tr>\n",
       "      <th>...</th>\n",
       "      <td>...</td>\n",
       "      <td>...</td>\n",
       "      <td>...</td>\n",
       "      <td>...</td>\n",
       "      <td>...</td>\n",
       "      <td>...</td>\n",
       "      <td>...</td>\n",
       "      <td>...</td>\n",
       "      <td>...</td>\n",
       "      <td>...</td>\n",
       "      <td>...</td>\n",
       "    </tr>\n",
       "    <tr>\n",
       "      <th>17586</th>\n",
       "      <td>31/12/2021</td>\n",
       "      <td>21:55:00</td>\n",
       "      <td>54</td>\n",
       "      <td>45</td>\n",
       "      <td>72</td>\n",
       "      <td>CALM</td>\n",
       "      <td>0</td>\n",
       "      <td>0</td>\n",
       "      <td>0</td>\n",
       "      <td>0.0</td>\n",
       "      <td>2</td>\n",
       "    </tr>\n",
       "    <tr>\n",
       "      <th>17587</th>\n",
       "      <td>31/12/2021</td>\n",
       "      <td>22:25:00</td>\n",
       "      <td>54</td>\n",
       "      <td>45</td>\n",
       "      <td>72</td>\n",
       "      <td>CALM</td>\n",
       "      <td>0</td>\n",
       "      <td>0</td>\n",
       "      <td>0</td>\n",
       "      <td>0.0</td>\n",
       "      <td>2</td>\n",
       "    </tr>\n",
       "    <tr>\n",
       "      <th>17588</th>\n",
       "      <td>31/12/2021</td>\n",
       "      <td>22:55:00</td>\n",
       "      <td>54</td>\n",
       "      <td>45</td>\n",
       "      <td>72</td>\n",
       "      <td>CALM</td>\n",
       "      <td>0</td>\n",
       "      <td>0</td>\n",
       "      <td>0</td>\n",
       "      <td>0.0</td>\n",
       "      <td>2</td>\n",
       "    </tr>\n",
       "    <tr>\n",
       "      <th>17589</th>\n",
       "      <td>31/12/2021</td>\n",
       "      <td>23:25:00</td>\n",
       "      <td>54</td>\n",
       "      <td>45</td>\n",
       "      <td>72</td>\n",
       "      <td>CALM</td>\n",
       "      <td>0</td>\n",
       "      <td>0</td>\n",
       "      <td>0</td>\n",
       "      <td>0.0</td>\n",
       "      <td>2</td>\n",
       "    </tr>\n",
       "    <tr>\n",
       "      <th>17590</th>\n",
       "      <td>31/12/2021</td>\n",
       "      <td>23:55:00</td>\n",
       "      <td>52</td>\n",
       "      <td>46</td>\n",
       "      <td>82</td>\n",
       "      <td>CALM</td>\n",
       "      <td>0</td>\n",
       "      <td>0</td>\n",
       "      <td>0</td>\n",
       "      <td>0.0</td>\n",
       "      <td>1</td>\n",
       "    </tr>\n",
       "  </tbody>\n",
       "</table>\n",
       "<p>17590 rows × 11 columns</p>\n",
       "</div>"
      ],
      "text/plain": [
       "                      DATE      Time Temperature Dew Point Humidity  Wind  \\\n",
       "1      2021-01-01 00:00:00  00:25:00          46        43       87  CALM   \n",
       "2      2021-01-01 00:00:00  00:55:00          45        43       93  CALM   \n",
       "3      2021-01-01 00:00:00  01:55:00          45        39       81  CALM   \n",
       "4      2021-01-01 00:00:00  03:25:00          41        37       87  CALM   \n",
       "5      2021-01-01 00:00:00  03:55:00          41        36       81  CALM   \n",
       "...                    ...       ...         ...       ...      ...   ...   \n",
       "17586           31/12/2021  21:55:00          54        45       72  CALM   \n",
       "17587           31/12/2021  22:25:00          54        45       72  CALM   \n",
       "17588           31/12/2021  22:55:00          54        45       72  CALM   \n",
       "17589           31/12/2021  23:25:00          54        45       72  CALM   \n",
       "17590           31/12/2021  23:55:00          52        46       82  CALM   \n",
       "\n",
       "      Wind Speed Wind Gust Pressure Precip.  Condition  \n",
       "1             0         0        0     0.0           1  \n",
       "2             0         0        0     0.0           1  \n",
       "3             0         0        0     0.0           1  \n",
       "4             0         0        0     0.0           1  \n",
       "5             0         0        0     0.0           1  \n",
       "...          ...       ...      ...     ...        ...  \n",
       "17586         0         0        0     0.0           2  \n",
       "17587         0         0        0     0.0           2  \n",
       "17588         0         0        0     0.0           2  \n",
       "17589         0         0        0     0.0           2  \n",
       "17590         0         0        0     0.0           1  \n",
       "\n",
       "[17590 rows x 11 columns]"
      ]
     },
     "execution_count": 229,
     "metadata": {},
     "output_type": "execute_result"
    }
   ],
   "source": [
    "dataframe_2021"
   ]
  },
  {
   "cell_type": "markdown",
   "id": "fa0c717e",
   "metadata": {},
   "source": [
    "# Preprocessing for 2022"
   ]
  },
  {
   "cell_type": "code",
   "execution_count": 230,
   "id": "8cb19de2",
   "metadata": {},
   "outputs": [],
   "source": [
    "humidity_list_2022 = dataframe_2022[\"Humidity\"].tolist()\n",
    "cleaned_humidity_list = []\n",
    "for humidity in humidity_list_2022:\n",
    "    if isinstance(humidity, str):\n",
    "        cleaned_humidity_list.append(humidity.replace('\\xa0%', ''))\n",
    "    else:\n",
    "        cleaned_humidity_list.append('NaN') \n",
    "\n",
    "dataframe_2022[\"Humidity\"] = cleaned_humidity_list"
   ]
  },
  {
   "cell_type": "code",
   "execution_count": 231,
   "id": "642bc9a6",
   "metadata": {},
   "outputs": [],
   "source": [
    "temperature = dataframe_2022[\"Dew Point\"].tolist()\n",
    "Dew_Point_list = []\n",
    "for temp in temperature:\n",
    "    if isinstance(temp, str):\n",
    "        Dew_Point_list.append(temp.replace('\\xa0°F', ''))\n",
    "    elif isinstance(temp, float):\n",
    "        Dew_Point_list.append(str(temp))\n",
    "        \n",
    "\n",
    "dataframe_2022[\"Dew Point\"]=Dew_Point_list"
   ]
  },
  {
   "cell_type": "code",
   "execution_count": 232,
   "id": "087335c5",
   "metadata": {},
   "outputs": [],
   "source": [
    "temperature = dataframe_2022[\"Temperature\"].tolist()\n",
    "\n",
    "cleaned_temperature_list = []\n",
    "for temp in temperature:\n",
    "    if isinstance(temp, str):\n",
    "        cleaned_temperature_list.append(temp.replace('\\xa0°F', ''))\n",
    "    elif isinstance(temp, float):\n",
    "        cleaned_temperature_list.append(str(temp))\n",
    "        \n",
    "\n",
    "dataframe_2022[\"Temperature\"]=cleaned_temperature_list"
   ]
  },
  {
   "cell_type": "code",
   "execution_count": 233,
   "id": "a33d4ad7",
   "metadata": {},
   "outputs": [],
   "source": [
    "windspeed = dataframe_2022[\"Wind Speed\"].tolist()\n",
    "windsspeed_list = [str(speed).replace('mph', '') for speed in windspeed]\n",
    "dataframe_2022[\"Wind Speed\"] = windsspeed_list"
   ]
  },
  {
   "cell_type": "code",
   "execution_count": 234,
   "id": "e8ec6e1a",
   "metadata": {},
   "outputs": [],
   "source": [
    "Wind_Gust = dataframe_2022[\"Wind Gust\"].tolist()\n",
    "Wind_Gust_list= [str(s).replace('mph', '') for s in Wind_Gust]\n",
    "dataframe_2022[\"Wind Gust\"] = Wind_Gust_list"
   ]
  },
  {
   "cell_type": "code",
   "execution_count": 235,
   "id": "ca337987",
   "metadata": {},
   "outputs": [],
   "source": [
    "Pressure = dataframe_2022[\"Pressure\"].tolist()\n",
    "Pressure_list= [str(s).replace('mph', '') for s in Wind_Gust]\n",
    "dataframe_2022[\"Pressure\"] = Pressure_list"
   ]
  },
  {
   "cell_type": "code",
   "execution_count": 236,
   "id": "6a86b895",
   "metadata": {},
   "outputs": [],
   "source": [
    "Precip = dataframe_2022[\"Precip.\"].tolist()\n",
    "Precip_list = [str(s).replace('in', '') for s in Precip]\n",
    "dataframe_2022[\"Precip.\"] = Precip_list"
   ]
  },
  {
   "cell_type": "code",
   "execution_count": 237,
   "id": "c6e9a157",
   "metadata": {},
   "outputs": [],
   "source": [
    "weather_mapping = {\n",
    "    'Fog': 1,\n",
    "    'Smoke': 2,\n",
    "}\n",
    "\n",
    "condition = dataframe_2022[\"Condition\"].tolist()\n",
    "condition_list = [weather_mapping.get(c, 0) for c in condition]\n",
    "dataframe_2022[\"Condition\"] = condition_list"
   ]
  },
  {
   "cell_type": "code",
   "execution_count": 197,
   "id": "09ea25a9",
   "metadata": {},
   "outputs": [
    {
     "data": {
      "text/html": [
       "<div>\n",
       "<style scoped>\n",
       "    .dataframe tbody tr th:only-of-type {\n",
       "        vertical-align: middle;\n",
       "    }\n",
       "\n",
       "    .dataframe tbody tr th {\n",
       "        vertical-align: top;\n",
       "    }\n",
       "\n",
       "    .dataframe thead th {\n",
       "        text-align: right;\n",
       "    }\n",
       "</style>\n",
       "<table border=\"1\" class=\"dataframe\">\n",
       "  <thead>\n",
       "    <tr style=\"text-align: right;\">\n",
       "      <th></th>\n",
       "      <th>DATE</th>\n",
       "      <th>Time</th>\n",
       "      <th>Temperature</th>\n",
       "      <th>Dew Point</th>\n",
       "      <th>Humidity</th>\n",
       "      <th>Wind</th>\n",
       "      <th>Wind Speed</th>\n",
       "      <th>Wind Gust</th>\n",
       "      <th>Pressure</th>\n",
       "      <th>Precip.</th>\n",
       "      <th>Condition</th>\n",
       "    </tr>\n",
       "  </thead>\n",
       "  <tbody>\n",
       "    <tr>\n",
       "      <th>0</th>\n",
       "      <td>NaN</td>\n",
       "      <td>00:25:00</td>\n",
       "      <td>52</td>\n",
       "      <td>46</td>\n",
       "      <td>82</td>\n",
       "      <td>CALM</td>\n",
       "      <td>0</td>\n",
       "      <td>0</td>\n",
       "      <td>0</td>\n",
       "      <td>0.0</td>\n",
       "      <td>0</td>\n",
       "    </tr>\n",
       "    <tr>\n",
       "      <th>1</th>\n",
       "      <td>NaN</td>\n",
       "      <td>00:55:00</td>\n",
       "      <td>52</td>\n",
       "      <td>46</td>\n",
       "      <td>82</td>\n",
       "      <td>CALM</td>\n",
       "      <td>0</td>\n",
       "      <td>0</td>\n",
       "      <td>0</td>\n",
       "      <td>0.0</td>\n",
       "      <td>0</td>\n",
       "    </tr>\n",
       "    <tr>\n",
       "      <th>2</th>\n",
       "      <td>NaN</td>\n",
       "      <td>01:25:00</td>\n",
       "      <td>52</td>\n",
       "      <td>46</td>\n",
       "      <td>82</td>\n",
       "      <td>CALM</td>\n",
       "      <td>0</td>\n",
       "      <td>0</td>\n",
       "      <td>0</td>\n",
       "      <td>0.0</td>\n",
       "      <td>0</td>\n",
       "    </tr>\n",
       "    <tr>\n",
       "      <th>3</th>\n",
       "      <td>NaN</td>\n",
       "      <td>01:55:00</td>\n",
       "      <td>50</td>\n",
       "      <td>45</td>\n",
       "      <td>82</td>\n",
       "      <td>CALM</td>\n",
       "      <td>0</td>\n",
       "      <td>0</td>\n",
       "      <td>0</td>\n",
       "      <td>0.0</td>\n",
       "      <td>0</td>\n",
       "    </tr>\n",
       "    <tr>\n",
       "      <th>4</th>\n",
       "      <td>NaN</td>\n",
       "      <td>02:25:00</td>\n",
       "      <td>50</td>\n",
       "      <td>45</td>\n",
       "      <td>82</td>\n",
       "      <td>CALM</td>\n",
       "      <td>0</td>\n",
       "      <td>0</td>\n",
       "      <td>0</td>\n",
       "      <td>0.0</td>\n",
       "      <td>0</td>\n",
       "    </tr>\n",
       "    <tr>\n",
       "      <th>...</th>\n",
       "      <td>...</td>\n",
       "      <td>...</td>\n",
       "      <td>...</td>\n",
       "      <td>...</td>\n",
       "      <td>...</td>\n",
       "      <td>...</td>\n",
       "      <td>...</td>\n",
       "      <td>...</td>\n",
       "      <td>...</td>\n",
       "      <td>...</td>\n",
       "      <td>...</td>\n",
       "    </tr>\n",
       "    <tr>\n",
       "      <th>17679</th>\n",
       "      <td>NaN</td>\n",
       "      <td>21:55:00</td>\n",
       "      <td>57</td>\n",
       "      <td>48</td>\n",
       "      <td>72</td>\n",
       "      <td>CALM</td>\n",
       "      <td>0</td>\n",
       "      <td>0</td>\n",
       "      <td>0</td>\n",
       "      <td>0.0</td>\n",
       "      <td>0</td>\n",
       "    </tr>\n",
       "    <tr>\n",
       "      <th>17680</th>\n",
       "      <td>NaN</td>\n",
       "      <td>22:25:00</td>\n",
       "      <td>55</td>\n",
       "      <td>48</td>\n",
       "      <td>77</td>\n",
       "      <td>CALM</td>\n",
       "      <td>0</td>\n",
       "      <td>0</td>\n",
       "      <td>0</td>\n",
       "      <td>0.0</td>\n",
       "      <td>0</td>\n",
       "    </tr>\n",
       "    <tr>\n",
       "      <th>17681</th>\n",
       "      <td>NaN</td>\n",
       "      <td>22:55:00</td>\n",
       "      <td>55</td>\n",
       "      <td>48</td>\n",
       "      <td>77</td>\n",
       "      <td>CALM</td>\n",
       "      <td>0</td>\n",
       "      <td>0</td>\n",
       "      <td>0</td>\n",
       "      <td>0.0</td>\n",
       "      <td>0</td>\n",
       "    </tr>\n",
       "    <tr>\n",
       "      <th>17682</th>\n",
       "      <td>NaN</td>\n",
       "      <td>23:25:00</td>\n",
       "      <td>54</td>\n",
       "      <td>46</td>\n",
       "      <td>77</td>\n",
       "      <td>CALM</td>\n",
       "      <td>0</td>\n",
       "      <td>0</td>\n",
       "      <td>0</td>\n",
       "      <td>0.0</td>\n",
       "      <td>0</td>\n",
       "    </tr>\n",
       "    <tr>\n",
       "      <th>17683</th>\n",
       "      <td>NaN</td>\n",
       "      <td>23:55:00</td>\n",
       "      <td>54</td>\n",
       "      <td>48</td>\n",
       "      <td>82</td>\n",
       "      <td>CALM</td>\n",
       "      <td>0</td>\n",
       "      <td>0</td>\n",
       "      <td>0</td>\n",
       "      <td>0.0</td>\n",
       "      <td>0</td>\n",
       "    </tr>\n",
       "  </tbody>\n",
       "</table>\n",
       "<p>17684 rows × 11 columns</p>\n",
       "</div>"
      ],
      "text/plain": [
       "      DATE      Time Temperature Dew Point Humidity  Wind Wind Speed  \\\n",
       "0      NaN  00:25:00          52        46       82  CALM         0    \n",
       "1      NaN  00:55:00          52        46       82  CALM         0    \n",
       "2      NaN  01:25:00          52        46       82  CALM         0    \n",
       "3      NaN  01:55:00          50        45       82  CALM         0    \n",
       "4      NaN  02:25:00          50        45       82  CALM         0    \n",
       "...    ...       ...         ...       ...      ...   ...        ...   \n",
       "17679  NaN  21:55:00          57        48       72  CALM         0    \n",
       "17680  NaN  22:25:00          55        48       77  CALM         0    \n",
       "17681  NaN  22:55:00          55        48       77  CALM         0    \n",
       "17682  NaN  23:25:00          54        46       77  CALM         0    \n",
       "17683  NaN  23:55:00          54        48       82  CALM         0    \n",
       "\n",
       "      Wind Gust Pressure Precip.  Condition  \n",
       "0            0        0     0.0           0  \n",
       "1            0        0     0.0           0  \n",
       "2            0        0     0.0           0  \n",
       "3            0        0     0.0           0  \n",
       "4            0        0     0.0           0  \n",
       "...         ...      ...     ...        ...  \n",
       "17679        0        0     0.0           0  \n",
       "17680        0        0     0.0           0  \n",
       "17681        0        0     0.0           0  \n",
       "17682        0        0     0.0           0  \n",
       "17683        0        0     0.0           0  \n",
       "\n",
       "[17684 rows x 11 columns]"
      ]
     },
     "execution_count": 197,
     "metadata": {},
     "output_type": "execute_result"
    }
   ],
   "source": [
    "dataframe_2022"
   ]
  },
  {
   "cell_type": "markdown",
   "id": "88e83799",
   "metadata": {},
   "source": [
    "# Preprocessing for 2020"
   ]
  },
  {
   "cell_type": "code",
   "execution_count": 238,
   "id": "ac8f8315",
   "metadata": {},
   "outputs": [],
   "source": [
    "temperature = dataframe_2020[\"Temperature\"].tolist()\n",
    "\n",
    "cleaned_temperature_list = []\n",
    "for temp in temperature:\n",
    "    if isinstance(temp, str):\n",
    "        cleaned_temperature_list.append(temp.replace('\\xa0°F', ''))\n",
    "    elif isinstance(temp, float):\n",
    "        cleaned_temperature_list.append(str(temp))\n",
    "        \n",
    "dataframe_2020[\"Temperature\"]=cleaned_temperature_list"
   ]
  },
  {
   "cell_type": "code",
   "execution_count": 239,
   "id": "0bb88623",
   "metadata": {},
   "outputs": [],
   "source": [
    "temperature = dataframe_2020[\"Dew Point\"].tolist()\n",
    "Dew_Point_list = []\n",
    "for temp in temperature:\n",
    "    if isinstance(temp, str):\n",
    "        Dew_Point_list.append(temp.replace('\\xa0°F', ''))\n",
    "    elif isinstance(temp, float):\n",
    "        Dew_Point_list.append(str(temp))\n",
    "        \n",
    "\n",
    "dataframe_2020[\"Dew Point\"]=Dew_Point_list"
   ]
  },
  {
   "cell_type": "code",
   "execution_count": 240,
   "id": "7b410b2a",
   "metadata": {},
   "outputs": [],
   "source": [
    "humidity_list = dataframe_2020[\"Humidity\"].tolist()\n",
    "cleaned_humidity_list = [humidity.replace('\\xa0%', '') for humidity in humidity_list]\n",
    "dataframe_2020[\"Humidity\"] = cleaned_humidity_list"
   ]
  },
  {
   "cell_type": "code",
   "execution_count": 241,
   "id": "8c6ddc10",
   "metadata": {},
   "outputs": [],
   "source": [
    "windspeed = dataframe_2020[\"Wind Speed\"].tolist()\n",
    "windsspeed_list = [str(speed).replace('mph', '') for speed in windspeed]\n",
    "dataframe_2020[\"Wind Speed\"] = windsspeed_list"
   ]
  },
  {
   "cell_type": "code",
   "execution_count": 242,
   "id": "44494bb5",
   "metadata": {},
   "outputs": [],
   "source": [
    "Wind_Gust = dataframe_2020[\"Wind Gust\"].tolist()\n",
    "Wind_Gust_list= [str(s).replace('mph', '') for s in Wind_Gust]\n",
    "dataframe_2020[\"Wind Gust\"] = Wind_Gust_list"
   ]
  },
  {
   "cell_type": "code",
   "execution_count": 243,
   "id": "ca59f02e",
   "metadata": {},
   "outputs": [],
   "source": [
    "Pressure = dataframe_2020[\"Pressure\"].tolist()\n",
    "Pressure_list= [str(s).replace('mph', '') for s in Wind_Gust]\n",
    "dataframe_2020[\"Pressure\"] = Pressure_list"
   ]
  },
  {
   "cell_type": "code",
   "execution_count": 244,
   "id": "efc2cd1d",
   "metadata": {},
   "outputs": [],
   "source": [
    "Precip = dataframe_2020[\"Precip.\"].tolist()\n",
    "Precip_list = [str(s).replace('in', '') for s in Precip]\n",
    "dataframe_2020[\"Precip.\"] = Precip_list"
   ]
  },
  {
   "cell_type": "code",
   "execution_count": 245,
   "id": "14dd626b",
   "metadata": {},
   "outputs": [],
   "source": [
    "weather_mapping = {\n",
    "    'Fog': 1,\n",
    "    'Smoke': 2,\n",
    "}\n",
    "\n",
    "condition = dataframe_2020[\"Condition\"].tolist()\n",
    "condition_list = [weather_mapping.get(c, 0) for c in condition]\n",
    "dataframe_2020[\"Condition\"] = condition_list"
   ]
  },
  {
   "cell_type": "markdown",
   "id": "6d0ccdde",
   "metadata": {},
   "source": [
    "# remove null values"
   ]
  },
  {
   "cell_type": "code",
   "execution_count": 273,
   "id": "cda35162",
   "metadata": {},
   "outputs": [],
   "source": [
    "dataframe_2020_cleaned = dataframe_2020.dropna(subset=['Wind'])\n",
    "dataframe_2021_cleaned=dataframe_2021.dropna(subset=['Humidity','Wind'])\n",
    "dataframe_2022_cleaned=dataframe_2022.dropna(subset=['Wind'])"
   ]
  },
  {
   "cell_type": "markdown",
   "id": "6db32b4c",
   "metadata": {},
   "source": [
    "# convert to numerical values"
   ]
  },
  {
   "cell_type": "code",
   "execution_count": 290,
   "id": "97ef0330",
   "metadata": {},
   "outputs": [
    {
     "name": "stderr",
     "output_type": "stream",
     "text": [
      "C:\\Users\\HP\\AppData\\Local\\Temp\\ipykernel_10732\\2422305994.py:2: SettingWithCopyWarning: \n",
      "A value is trying to be set on a copy of a slice from a DataFrame.\n",
      "Try using .loc[row_indexer,col_indexer] = value instead\n",
      "\n",
      "See the caveats in the documentation: https://pandas.pydata.org/pandas-docs/stable/user_guide/indexing.html#returning-a-view-versus-a-copy\n",
      "  dataframe_2020_cleaned[columns_to_convert] = dataframe_2020_cleaned[columns_to_convert].apply(pd.to_numeric, errors='coerce')\n"
     ]
    }
   ],
   "source": [
    "columns_to_convert = ['Temperature', 'Dew Point', 'Humidity', 'Wind', 'Wind Speed', 'Wind Gust', 'Pressure', 'Precip.']\n",
    "dataframe_2020_cleaned[columns_to_convert] = dataframe_2020_cleaned[columns_to_convert].apply(pd.to_numeric, errors='coerce')"
   ]
  },
  {
   "cell_type": "code",
   "execution_count": 299,
   "id": "a175cc10",
   "metadata": {},
   "outputs": [
    {
     "name": "stderr",
     "output_type": "stream",
     "text": [
      "C:\\Users\\HP\\AppData\\Local\\Temp\\ipykernel_10732\\2304453628.py:2: SettingWithCopyWarning: \n",
      "A value is trying to be set on a copy of a slice from a DataFrame.\n",
      "Try using .loc[row_indexer,col_indexer] = value instead\n",
      "\n",
      "See the caveats in the documentation: https://pandas.pydata.org/pandas-docs/stable/user_guide/indexing.html#returning-a-view-versus-a-copy\n",
      "  dataframe_2021_cleaned[columns_to_convert] = dataframe_2021_cleaned[columns_to_convert_to].apply(pd.to_numeric, errors='coerce')\n"
     ]
    }
   ],
   "source": [
    "columns_to_convert_to = ['Temperature', 'Dew Point', 'Humidity', 'Wind', 'Wind Speed', 'Wind Gust', 'Pressure', 'Precip.']\n",
    "dataframe_2021_cleaned[columns_to_convert] = dataframe_2021_cleaned[columns_to_convert_to].apply(pd.to_numeric, errors='coerce')"
   ]
  },
  {
   "cell_type": "code",
   "execution_count": 302,
   "id": "6b00840b",
   "metadata": {},
   "outputs": [
    {
     "name": "stderr",
     "output_type": "stream",
     "text": [
      "C:\\Users\\HP\\AppData\\Local\\Temp\\ipykernel_10732\\688250228.py:2: SettingWithCopyWarning: \n",
      "A value is trying to be set on a copy of a slice from a DataFrame.\n",
      "Try using .loc[row_indexer,col_indexer] = value instead\n",
      "\n",
      "See the caveats in the documentation: https://pandas.pydata.org/pandas-docs/stable/user_guide/indexing.html#returning-a-view-versus-a-copy\n",
      "  dataframe_2022_cleaned[columns_to_convert] = dataframe_2022_cleaned[columns_to_convert_too].apply(pd.to_numeric, errors='coerce')\n"
     ]
    }
   ],
   "source": [
    "columns_to_convert_too = ['Temperature', 'Dew Point', 'Humidity', 'Wind', 'Wind Speed', 'Wind Gust', 'Pressure', 'Precip.']\n",
    "dataframe_2022_cleaned[columns_to_convert] = dataframe_2022_cleaned[columns_to_convert_too].apply(pd.to_numeric, errors='coerce')"
   ]
  },
  {
   "cell_type": "markdown",
   "id": "235568bb",
   "metadata": {},
   "source": [
    "# Date and time formatting"
   ]
  },
  {
   "cell_type": "code",
   "execution_count": 325,
   "id": "12a34630",
   "metadata": {},
   "outputs": [
    {
     "name": "stderr",
     "output_type": "stream",
     "text": [
      "C:\\Users\\HP\\AppData\\Local\\Temp\\ipykernel_10732\\594973986.py:10: SettingWithCopyWarning: \n",
      "A value is trying to be set on a copy of a slice from a DataFrame.\n",
      "Try using .loc[row_indexer,col_indexer] = value instead\n",
      "\n",
      "See the caveats in the documentation: https://pandas.pydata.org/pandas-docs/stable/user_guide/indexing.html#returning-a-view-versus-a-copy\n",
      "  dataframe_2022_cleaned['DATE'] = dataframe_2022_cleaned['DATE'].apply(changeTypeDate)\n",
      "C:\\Users\\HP\\AppData\\Local\\Temp\\ipykernel_10732\\594973986.py:11: SettingWithCopyWarning: \n",
      "A value is trying to be set on a copy of a slice from a DataFrame.\n",
      "Try using .loc[row_indexer,col_indexer] = value instead\n",
      "\n",
      "See the caveats in the documentation: https://pandas.pydata.org/pandas-docs/stable/user_guide/indexing.html#returning-a-view-versus-a-copy\n",
      "  dataframe_2020_cleaned['DATE'] = dataframe_2020_cleaned['DATE'].apply(changeTypeDate)\n"
     ]
    }
   ],
   "source": [
    "def changeTypeDate(value):\n",
    "    form = \"%d/%m/%Y\"\n",
    "    try:\n",
    "        return pd.to_datetime(value,errors = 'coerce',format =form)\n",
    "    except:\n",
    "        pd.NaT\n",
    "        \n",
    "    \n",
    "\n",
    "dataframe_2022_cleaned['DATE'] = dataframe_2022_cleaned['DATE'].apply(changeTypeDate)\n",
    "dataframe_2020_cleaned['DATE'] = dataframe_2020_cleaned['DATE'].apply(changeTypeDate)"
   ]
  },
  {
   "cell_type": "code",
   "execution_count": 329,
   "id": "314c1c00",
   "metadata": {},
   "outputs": [
    {
     "name": "stderr",
     "output_type": "stream",
     "text": [
      "C:\\Users\\HP\\AppData\\Local\\Temp\\ipykernel_10732\\1209826844.py:3: SettingWithCopyWarning: \n",
      "A value is trying to be set on a copy of a slice from a DataFrame.\n",
      "Try using .loc[row_indexer,col_indexer] = value instead\n",
      "\n",
      "See the caveats in the documentation: https://pandas.pydata.org/pandas-docs/stable/user_guide/indexing.html#returning-a-view-versus-a-copy\n",
      "  dataframe_2020_cleaned['DATE'] = dataframe_2020_cleaned['DATE'].fillna(0)\n"
     ]
    },
    {
     "ename": "ValueError",
     "evalue": "time data '' does not match format '%d/%m/%Y'",
     "output_type": "error",
     "traceback": [
      "\u001b[1;31m---------------------------------------------------------------------------\u001b[0m",
      "\u001b[1;31mValueError\u001b[0m                                Traceback (most recent call last)",
      "Input \u001b[1;32mIn [329]\u001b[0m, in \u001b[0;36m<cell line: 4>\u001b[1;34m()\u001b[0m\n\u001b[0;32m      4\u001b[0m \u001b[38;5;28;01mfor\u001b[39;00m index \u001b[38;5;129;01min\u001b[39;00m \u001b[38;5;28mrange\u001b[39m(\u001b[38;5;241m0\u001b[39m,\u001b[38;5;28mlen\u001b[39m(dataframe_2020_cleaned)):\n\u001b[0;32m      5\u001b[0m     \u001b[38;5;28;01mif\u001b[39;00m dataframe_2020_cleaned[\u001b[38;5;124m'\u001b[39m\u001b[38;5;124mDATE\u001b[39m\u001b[38;5;124m'\u001b[39m][index]\u001b[38;5;241m==\u001b[39m\u001b[38;5;241m0\u001b[39m:\n\u001b[1;32m----> 6\u001b[0m         dataframe_2020_cleaned[\u001b[38;5;124m'\u001b[39m\u001b[38;5;124mDATE\u001b[39m\u001b[38;5;124m'\u001b[39m][index] \u001b[38;5;241m=\u001b[39m \u001b[43mdatetime\u001b[49m\u001b[38;5;241;43m.\u001b[39;49m\u001b[43mdatetime\u001b[49m\u001b[38;5;241;43m.\u001b[39;49m\u001b[43mstrptime\u001b[49m\u001b[43m(\u001b[49m\u001b[43ml_date\u001b[49m\u001b[43m,\u001b[49m\u001b[43m \u001b[49m\u001b[38;5;28;43mformat\u001b[39;49m\u001b[43m)\u001b[49m\n\u001b[0;32m      7\u001b[0m     \u001b[38;5;28;01melse\u001b[39;00m:\n\u001b[0;32m      8\u001b[0m         l_date \u001b[38;5;241m=\u001b[39m dataframe_2020_cleaned[\u001b[38;5;124m'\u001b[39m\u001b[38;5;124mDATE\u001b[39m\u001b[38;5;124m'\u001b[39m][index]\u001b[38;5;241m.\u001b[39mstrftime(\u001b[38;5;28mformat\u001b[39m)\n",
      "File \u001b[1;32m~\\anaconda3\\lib\\_strptime.py:568\u001b[0m, in \u001b[0;36m_strptime_datetime\u001b[1;34m(cls, data_string, format)\u001b[0m\n\u001b[0;32m    565\u001b[0m \u001b[38;5;28;01mdef\u001b[39;00m \u001b[38;5;21m_strptime_datetime\u001b[39m(\u001b[38;5;28mcls\u001b[39m, data_string, \u001b[38;5;28mformat\u001b[39m\u001b[38;5;241m=\u001b[39m\u001b[38;5;124m\"\u001b[39m\u001b[38;5;132;01m%a\u001b[39;00m\u001b[38;5;124m \u001b[39m\u001b[38;5;124m%\u001b[39m\u001b[38;5;124mb \u001b[39m\u001b[38;5;132;01m%d\u001b[39;00m\u001b[38;5;124m \u001b[39m\u001b[38;5;124m%\u001b[39m\u001b[38;5;124mH:\u001b[39m\u001b[38;5;124m%\u001b[39m\u001b[38;5;124mM:\u001b[39m\u001b[38;5;124m%\u001b[39m\u001b[38;5;124mS \u001b[39m\u001b[38;5;124m%\u001b[39m\u001b[38;5;124mY\u001b[39m\u001b[38;5;124m\"\u001b[39m):\n\u001b[0;32m    566\u001b[0m     \u001b[38;5;124;03m\"\"\"Return a class cls instance based on the input string and the\u001b[39;00m\n\u001b[0;32m    567\u001b[0m \u001b[38;5;124;03m    format string.\"\"\"\u001b[39;00m\n\u001b[1;32m--> 568\u001b[0m     tt, fraction, gmtoff_fraction \u001b[38;5;241m=\u001b[39m \u001b[43m_strptime\u001b[49m\u001b[43m(\u001b[49m\u001b[43mdata_string\u001b[49m\u001b[43m,\u001b[49m\u001b[43m \u001b[49m\u001b[38;5;28;43mformat\u001b[39;49m\u001b[43m)\u001b[49m\n\u001b[0;32m    569\u001b[0m     tzname, gmtoff \u001b[38;5;241m=\u001b[39m tt[\u001b[38;5;241m-\u001b[39m\u001b[38;5;241m2\u001b[39m:]\n\u001b[0;32m    570\u001b[0m     args \u001b[38;5;241m=\u001b[39m tt[:\u001b[38;5;241m6\u001b[39m] \u001b[38;5;241m+\u001b[39m (fraction,)\n",
      "File \u001b[1;32m~\\anaconda3\\lib\\_strptime.py:349\u001b[0m, in \u001b[0;36m_strptime\u001b[1;34m(data_string, format)\u001b[0m\n\u001b[0;32m    347\u001b[0m found \u001b[38;5;241m=\u001b[39m format_regex\u001b[38;5;241m.\u001b[39mmatch(data_string)\n\u001b[0;32m    348\u001b[0m \u001b[38;5;28;01mif\u001b[39;00m \u001b[38;5;129;01mnot\u001b[39;00m found:\n\u001b[1;32m--> 349\u001b[0m     \u001b[38;5;28;01mraise\u001b[39;00m \u001b[38;5;167;01mValueError\u001b[39;00m(\u001b[38;5;124m\"\u001b[39m\u001b[38;5;124mtime data \u001b[39m\u001b[38;5;132;01m%r\u001b[39;00m\u001b[38;5;124m does not match format \u001b[39m\u001b[38;5;132;01m%r\u001b[39;00m\u001b[38;5;124m\"\u001b[39m \u001b[38;5;241m%\u001b[39m\n\u001b[0;32m    350\u001b[0m                      (data_string, \u001b[38;5;28mformat\u001b[39m))\n\u001b[0;32m    351\u001b[0m \u001b[38;5;28;01mif\u001b[39;00m \u001b[38;5;28mlen\u001b[39m(data_string) \u001b[38;5;241m!=\u001b[39m found\u001b[38;5;241m.\u001b[39mend():\n\u001b[0;32m    352\u001b[0m     \u001b[38;5;28;01mraise\u001b[39;00m \u001b[38;5;167;01mValueError\u001b[39;00m(\u001b[38;5;124m\"\u001b[39m\u001b[38;5;124munconverted data remains: \u001b[39m\u001b[38;5;132;01m%s\u001b[39;00m\u001b[38;5;124m\"\u001b[39m \u001b[38;5;241m%\u001b[39m\n\u001b[0;32m    353\u001b[0m                       data_string[found\u001b[38;5;241m.\u001b[39mend():])\n",
      "\u001b[1;31mValueError\u001b[0m: time data '' does not match format '%d/%m/%Y'"
     ]
    }
   ],
   "source": [
    "l_date= str()\n",
    "format = \"%d/%m/%Y\"\n",
    "dataframe_2020_cleaned['DATE'] = dataframe_2020_cleaned['DATE'].fillna(0)\n",
    "for index in range(0,len(dataframe_2020_cleaned)):\n",
    "    if dataframe_2020_cleaned['DATE'][index]==0:\n",
    "        dataframe_2020_cleaned['DATE'][index] = datetime.datetime.strptime(l_date, format)\n",
    "    else:\n",
    "        l_date = dataframe_2020_cleaned['DATE'][index].strftime(format)\n"
   ]
  },
  {
   "cell_type": "code",
   "execution_count": 330,
   "id": "54fbb425",
   "metadata": {},
   "outputs": [
    {
     "name": "stderr",
     "output_type": "stream",
     "text": [
      "C:\\Users\\HP\\AppData\\Local\\Temp\\ipykernel_10732\\3256549221.py:3: SettingWithCopyWarning: \n",
      "A value is trying to be set on a copy of a slice from a DataFrame.\n",
      "Try using .loc[row_indexer,col_indexer] = value instead\n",
      "\n",
      "See the caveats in the documentation: https://pandas.pydata.org/pandas-docs/stable/user_guide/indexing.html#returning-a-view-versus-a-copy\n",
      "  dataframe_2022_cleaned['DATE'] = dataframe_2022_cleaned['DATE'].fillna(0)\n",
      "C:\\Users\\HP\\AppData\\Local\\Temp\\ipykernel_10732\\3256549221.py:6: SettingWithCopyWarning: \n",
      "A value is trying to be set on a copy of a slice from a DataFrame\n",
      "\n",
      "See the caveats in the documentation: https://pandas.pydata.org/pandas-docs/stable/user_guide/indexing.html#returning-a-view-versus-a-copy\n",
      "  dataframe_2022_cleaned['DATE'][index] = datetime.datetime.strptime(last_date, format)\n"
     ]
    },
    {
     "ename": "KeyError",
     "evalue": "49",
     "output_type": "error",
     "traceback": [
      "\u001b[1;31m---------------------------------------------------------------------------\u001b[0m",
      "\u001b[1;31mKeyError\u001b[0m                                  Traceback (most recent call last)",
      "File \u001b[1;32m~\\anaconda3\\lib\\site-packages\\pandas\\core\\indexes\\base.py:3621\u001b[0m, in \u001b[0;36mIndex.get_loc\u001b[1;34m(self, key, method, tolerance)\u001b[0m\n\u001b[0;32m   3620\u001b[0m \u001b[38;5;28;01mtry\u001b[39;00m:\n\u001b[1;32m-> 3621\u001b[0m     \u001b[38;5;28;01mreturn\u001b[39;00m \u001b[38;5;28;43mself\u001b[39;49m\u001b[38;5;241;43m.\u001b[39;49m\u001b[43m_engine\u001b[49m\u001b[38;5;241;43m.\u001b[39;49m\u001b[43mget_loc\u001b[49m\u001b[43m(\u001b[49m\u001b[43mcasted_key\u001b[49m\u001b[43m)\u001b[49m\n\u001b[0;32m   3622\u001b[0m \u001b[38;5;28;01mexcept\u001b[39;00m \u001b[38;5;167;01mKeyError\u001b[39;00m \u001b[38;5;28;01mas\u001b[39;00m err:\n",
      "File \u001b[1;32m~\\anaconda3\\lib\\site-packages\\pandas\\_libs\\index.pyx:136\u001b[0m, in \u001b[0;36mpandas._libs.index.IndexEngine.get_loc\u001b[1;34m()\u001b[0m\n",
      "File \u001b[1;32m~\\anaconda3\\lib\\site-packages\\pandas\\_libs\\index.pyx:163\u001b[0m, in \u001b[0;36mpandas._libs.index.IndexEngine.get_loc\u001b[1;34m()\u001b[0m\n",
      "File \u001b[1;32mpandas\\_libs\\hashtable_class_helper.pxi:2131\u001b[0m, in \u001b[0;36mpandas._libs.hashtable.Int64HashTable.get_item\u001b[1;34m()\u001b[0m\n",
      "File \u001b[1;32mpandas\\_libs\\hashtable_class_helper.pxi:2140\u001b[0m, in \u001b[0;36mpandas._libs.hashtable.Int64HashTable.get_item\u001b[1;34m()\u001b[0m\n",
      "\u001b[1;31mKeyError\u001b[0m: 49",
      "\nThe above exception was the direct cause of the following exception:\n",
      "\u001b[1;31mKeyError\u001b[0m                                  Traceback (most recent call last)",
      "Input \u001b[1;32mIn [330]\u001b[0m, in \u001b[0;36m<cell line: 4>\u001b[1;34m()\u001b[0m\n\u001b[0;32m      3\u001b[0m dataframe_2022_cleaned[\u001b[38;5;124m'\u001b[39m\u001b[38;5;124mDATE\u001b[39m\u001b[38;5;124m'\u001b[39m] \u001b[38;5;241m=\u001b[39m dataframe_2022_cleaned[\u001b[38;5;124m'\u001b[39m\u001b[38;5;124mDATE\u001b[39m\u001b[38;5;124m'\u001b[39m]\u001b[38;5;241m.\u001b[39mfillna(\u001b[38;5;241m0\u001b[39m)\n\u001b[0;32m      4\u001b[0m \u001b[38;5;28;01mfor\u001b[39;00m index \u001b[38;5;129;01min\u001b[39;00m \u001b[38;5;28mrange\u001b[39m(\u001b[38;5;241m0\u001b[39m,\u001b[38;5;28mlen\u001b[39m(dataframe_2022_cleaned)):\n\u001b[1;32m----> 5\u001b[0m     \u001b[38;5;28;01mif\u001b[39;00m \u001b[43mdataframe_2022_cleaned\u001b[49m\u001b[43m[\u001b[49m\u001b[38;5;124;43m'\u001b[39;49m\u001b[38;5;124;43mDATE\u001b[39;49m\u001b[38;5;124;43m'\u001b[39;49m\u001b[43m]\u001b[49m\u001b[43m[\u001b[49m\u001b[43mindex\u001b[49m\u001b[43m]\u001b[49m\u001b[38;5;241m==\u001b[39m\u001b[38;5;241m0\u001b[39m:\n\u001b[0;32m      6\u001b[0m         dataframe_2022_cleaned[\u001b[38;5;124m'\u001b[39m\u001b[38;5;124mDATE\u001b[39m\u001b[38;5;124m'\u001b[39m][index] \u001b[38;5;241m=\u001b[39m datetime\u001b[38;5;241m.\u001b[39mdatetime\u001b[38;5;241m.\u001b[39mstrptime(last_date, \u001b[38;5;28mformat\u001b[39m)\n\u001b[0;32m      7\u001b[0m     \u001b[38;5;28;01melse\u001b[39;00m:\n",
      "File \u001b[1;32m~\\anaconda3\\lib\\site-packages\\pandas\\core\\series.py:958\u001b[0m, in \u001b[0;36mSeries.__getitem__\u001b[1;34m(self, key)\u001b[0m\n\u001b[0;32m    955\u001b[0m     \u001b[38;5;28;01mreturn\u001b[39;00m \u001b[38;5;28mself\u001b[39m\u001b[38;5;241m.\u001b[39m_values[key]\n\u001b[0;32m    957\u001b[0m \u001b[38;5;28;01melif\u001b[39;00m key_is_scalar:\n\u001b[1;32m--> 958\u001b[0m     \u001b[38;5;28;01mreturn\u001b[39;00m \u001b[38;5;28;43mself\u001b[39;49m\u001b[38;5;241;43m.\u001b[39;49m\u001b[43m_get_value\u001b[49m\u001b[43m(\u001b[49m\u001b[43mkey\u001b[49m\u001b[43m)\u001b[49m\n\u001b[0;32m    960\u001b[0m \u001b[38;5;28;01mif\u001b[39;00m is_hashable(key):\n\u001b[0;32m    961\u001b[0m     \u001b[38;5;66;03m# Otherwise index.get_value will raise InvalidIndexError\u001b[39;00m\n\u001b[0;32m    962\u001b[0m     \u001b[38;5;28;01mtry\u001b[39;00m:\n\u001b[0;32m    963\u001b[0m         \u001b[38;5;66;03m# For labels that don't resolve as scalars like tuples and frozensets\u001b[39;00m\n",
      "File \u001b[1;32m~\\anaconda3\\lib\\site-packages\\pandas\\core\\series.py:1069\u001b[0m, in \u001b[0;36mSeries._get_value\u001b[1;34m(self, label, takeable)\u001b[0m\n\u001b[0;32m   1066\u001b[0m     \u001b[38;5;28;01mreturn\u001b[39;00m \u001b[38;5;28mself\u001b[39m\u001b[38;5;241m.\u001b[39m_values[label]\n\u001b[0;32m   1068\u001b[0m \u001b[38;5;66;03m# Similar to Index.get_value, but we do not fall back to positional\u001b[39;00m\n\u001b[1;32m-> 1069\u001b[0m loc \u001b[38;5;241m=\u001b[39m \u001b[38;5;28;43mself\u001b[39;49m\u001b[38;5;241;43m.\u001b[39;49m\u001b[43mindex\u001b[49m\u001b[38;5;241;43m.\u001b[39;49m\u001b[43mget_loc\u001b[49m\u001b[43m(\u001b[49m\u001b[43mlabel\u001b[49m\u001b[43m)\u001b[49m\n\u001b[0;32m   1070\u001b[0m \u001b[38;5;28;01mreturn\u001b[39;00m \u001b[38;5;28mself\u001b[39m\u001b[38;5;241m.\u001b[39mindex\u001b[38;5;241m.\u001b[39m_get_values_for_loc(\u001b[38;5;28mself\u001b[39m, loc, label)\n",
      "File \u001b[1;32m~\\anaconda3\\lib\\site-packages\\pandas\\core\\indexes\\base.py:3623\u001b[0m, in \u001b[0;36mIndex.get_loc\u001b[1;34m(self, key, method, tolerance)\u001b[0m\n\u001b[0;32m   3621\u001b[0m     \u001b[38;5;28;01mreturn\u001b[39;00m \u001b[38;5;28mself\u001b[39m\u001b[38;5;241m.\u001b[39m_engine\u001b[38;5;241m.\u001b[39mget_loc(casted_key)\n\u001b[0;32m   3622\u001b[0m \u001b[38;5;28;01mexcept\u001b[39;00m \u001b[38;5;167;01mKeyError\u001b[39;00m \u001b[38;5;28;01mas\u001b[39;00m err:\n\u001b[1;32m-> 3623\u001b[0m     \u001b[38;5;28;01mraise\u001b[39;00m \u001b[38;5;167;01mKeyError\u001b[39;00m(key) \u001b[38;5;28;01mfrom\u001b[39;00m \u001b[38;5;21;01merr\u001b[39;00m\n\u001b[0;32m   3624\u001b[0m \u001b[38;5;28;01mexcept\u001b[39;00m \u001b[38;5;167;01mTypeError\u001b[39;00m:\n\u001b[0;32m   3625\u001b[0m     \u001b[38;5;66;03m# If we have a listlike key, _check_indexing_error will raise\u001b[39;00m\n\u001b[0;32m   3626\u001b[0m     \u001b[38;5;66;03m#  InvalidIndexError. Otherwise we fall through and re-raise\u001b[39;00m\n\u001b[0;32m   3627\u001b[0m     \u001b[38;5;66;03m#  the TypeError.\u001b[39;00m\n\u001b[0;32m   3628\u001b[0m     \u001b[38;5;28mself\u001b[39m\u001b[38;5;241m.\u001b[39m_check_indexing_error(key)\n",
      "\u001b[1;31mKeyError\u001b[0m: 49"
     ]
    }
   ],
   "source": [
    "last_date = '01/01/2022'\n",
    "format = \"%d/%m/%Y\"\n",
    "dataframe_2022_cleaned['DATE'] = dataframe_2022_cleaned['DATE'].fillna(0)\n",
    "for index in range(0,len(dataframe_2022_cleaned)):\n",
    "    if dataframe_2022_cleaned['DATE'][index]==0:\n",
    "        dataframe_2022_cleaned['DATE'][index] = datetime.datetime.strptime(last_date, format)\n",
    "    else:\n",
    "        last_date = dataframe_2022_cleaned['DATE'][index].strftime(format)\n",
    "\n"
   ]
  },
  {
   "cell_type": "code",
   "execution_count": 281,
   "id": "7969256e",
   "metadata": {},
   "outputs": [
    {
     "name": "stdout",
     "output_type": "stream",
     "text": [
      "DATE           17305\n",
      "Time               0\n",
      "Temperature        0\n",
      "Dew Point          0\n",
      "Humidity           0\n",
      "Wind               0\n",
      "Wind Speed         0\n",
      "Wind Gust          0\n",
      "Pressure           0\n",
      "Precip.            0\n",
      "Condition          0\n",
      "dtype: int64\n"
     ]
    }
   ],
   "source": [
    "\n",
    "\n",
    "null_counts = dataframe_2022_cleaned.isnull().sum()\n",
    "\n",
    "print(null_counts)"
   ]
  },
  {
   "cell_type": "code",
   "execution_count": null,
   "id": "5497add5",
   "metadata": {},
   "outputs": [],
   "source": []
  }
 ],
 "metadata": {
  "kernelspec": {
   "display_name": "Python 3 (ipykernel)",
   "language": "python",
   "name": "python3"
  },
  "language_info": {
   "codemirror_mode": {
    "name": "ipython",
    "version": 3
   },
   "file_extension": ".py",
   "mimetype": "text/x-python",
   "name": "python",
   "nbconvert_exporter": "python",
   "pygments_lexer": "ipython3",
   "version": "3.9.12"
  }
 },
 "nbformat": 4,
 "nbformat_minor": 5
}
